{
 "cells": [
  {
   "cell_type": "code",
   "execution_count": 6,
   "metadata": {},
   "outputs": [],
   "source": [
    "import soundfile as sf\n",
    "import numpy as np\n",
    "import matplotlib.pyplot as plt\n",
    "import IPython.display as ipd"
   ]
  },
  {
   "cell_type": "code",
   "execution_count": 7,
   "metadata": {},
   "outputs": [],
   "source": [
    "dic = {i + 404 : chr(i) for i in range(ord('a'), ord('z') + 1)}"
   ]
  },
  {
   "cell_type": "code",
   "execution_count": 8,
   "metadata": {},
   "outputs": [],
   "source": [
    "def un_symbol(filename):\n",
    "    x, Fe = sf.read(filename)\n",
    "    l = 20*Fe \n",
    "    X = np.fft.fft(x,l)\n",
    "    v = np.fft.fftfreq(len(X),1/Fe)\n",
    "    n = np.argmax(abs(X[:int(len(X)/2)]))\n",
    "    a_max = abs(X)[n]\n",
    "    v_max = v[n]\n",
    "    while round(v_max) < 501 or round(v_max) > 526:\n",
    "        print(v_max)\n",
    "        t = [i/8000 for i in range(2000)]\n",
    "        bruit = np.sin([2*np.pi*v_max*i for i in t])*a_max/len(x)*2\n",
    "        x = x - bruit\n",
    "        X = np.fft.fft(x,l)\n",
    "        n = np.argmax(abs(X[:int(len(X)/2)]))\n",
    "        a_max = abs(X)[n]\n",
    "        v_max = v[n]\n",
    "    return round(v_max)"
   ]
  },
  {
   "cell_type": "code",
   "execution_count": 9,
   "metadata": {},
   "outputs": [
    {
     "name": "stdout",
     "output_type": "stream",
     "text": [
      "480.5\n",
      "541.5\n"
     ]
    },
    {
     "data": {
      "text/plain": [
       "(501, 501, 521, 521)"
      ]
     },
     "execution_count": 9,
     "metadata": {},
     "output_type": "execute_result"
    }
   ],
   "source": [
    "un_symbol('symboleA.wav'),un_symbol('symboleA2.wav'),un_symbol('symboleU.wav'),un_symbol('symboleU2.wav')"
   ]
  },
  {
   "cell_type": "code",
   "execution_count": 10,
   "metadata": {},
   "outputs": [],
   "source": [
    "def un_symbol(x, Fe):\n",
    "    l = 100*Fe \n",
    "    X = np.fft.fft(x,l)\n",
    "    v = np.fft.fftfreq(len(X),1/Fe)\n",
    "    n = np.argmax(abs(X[:int(len(X)/2)]))\n",
    "    a_max = abs(X)[n]\n",
    "    v_max = v[n]\n",
    "    while round(v_max) < 501 or round(v_max) > 526:\n",
    "        t = [i/8000 for i in range(2000)]\n",
    "        bruit = np.sin([2*np.pi*v_max*i for i in t])*a_max/len(x)*2\n",
    "        x = x - bruit\n",
    "        X = np.fft.fft(x,l)\n",
    "        n = np.argmax(abs(X[:int(len(X)/2)]))\n",
    "        a_max = abs(X)[n]\n",
    "        v_max = v[n]\n",
    "    return round(v_max)\n",
    "\n",
    "def des_symbols(filename):\n",
    "    result = []\n",
    "    x, Fe = sf.read(filename)\n",
    "    N = int(len(x)/2500)\n",
    "    for i in range(N):\n",
    "        x_ = x[i*2500:(i+1)*2500-500]\n",
    "        result.append(dic[un_symbol(x_,Fe)])\n",
    "    return result"
   ]
  },
  {
   "cell_type": "code",
   "execution_count": 16,
   "metadata": {},
   "outputs": [
    {
     "data": {
      "text/plain": [
       "['c', 'e', 's', 't', 'p', 'a', 's', 'm', 'a', 'l']"
      ]
     },
     "execution_count": 16,
     "metadata": {},
     "output_type": "execute_result"
    }
   ],
   "source": [
    "des_symbols('mess_ssespace.wav')"
   ]
  },
  {
   "cell_type": "code",
   "execution_count": null,
   "metadata": {},
   "outputs": [],
   "source": []
  }
 ],
 "metadata": {
  "kernelspec": {
   "display_name": "Python 3",
   "language": "python",
   "name": "python3"
  },
  "language_info": {
   "codemirror_mode": {
    "name": "ipython",
    "version": 3
   },
   "file_extension": ".py",
   "mimetype": "text/x-python",
   "name": "python",
   "nbconvert_exporter": "python",
   "pygments_lexer": "ipython3",
   "version": "3.10.12"
  }
 },
 "nbformat": 4,
 "nbformat_minor": 2
}
