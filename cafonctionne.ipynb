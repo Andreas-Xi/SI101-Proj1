{
 "cells": [
  {
   "cell_type": "code",
   "execution_count": 12,
   "metadata": {},
   "outputs": [],
   "source": [
    "import soundfile as sf\n",
    "import numpy as np\n",
    "import matplotlib.pyplot as plt\n",
    "import IPython.display as ipd\n",
    "import time\n",
    "import heapq"
   ]
  },
  {
   "cell_type": "code",
   "execution_count": 37,
   "metadata": {},
   "outputs": [],
   "source": [
    "def un_symbol(x):\n",
    "    Fe = 8000\n",
    "    t0 = time.time()\n",
    "    l = 500*Fe \n",
    "    while time.time() - t0 < 1:\n",
    "        X = np.fft.fft(x,l)\n",
    "        v = np.fft.fftfreq(len(X),1/Fe)\n",
    "        n = np.argmax(abs(X[:int(len(X)/2)]))\n",
    "        a_max = abs(X)[n]\n",
    "        v_max = v[n]\n",
    "        if round(v_max) >= 501 and round(v_max) <= 526:\n",
    "            if a_max/np.average(heapq.nlargest(5000,abs(X))) > 1.1:\n",
    "                return round(v_max)\n",
    "            else:\n",
    "                return 0\n",
    "        t = [i/8000 for i in range(2000)]\n",
    "        bruit = - np.sin([2*np.pi*v_max*i for i in t])*(np.imag(X[n]))/len(x)*2 + np.cos([2*np.pi*v_max*i for i in t])*(np.real(X[n]))/len(x)*2\n",
    "        x = x - bruit\n",
    "    return 0\n",
    "    \n",
    "def decode(x):\n",
    "    dic = {i + 436 : chr(i) for i in range(ord('A'), ord('Z') + 1)}\n",
    "    dic[0] = ' '\n",
    "    if len(x) < 2500:\n",
    "        x_ = x[0:2000]\n",
    "        return dic[un_symbol(x_)]\n",
    "    result = ''\n",
    "    N = int(len(x)/2500)\n",
    "    for i in range(N):\n",
    "        x_ = x[i*2500:(i+1)*2500-500]\n",
    "        result+=dic[un_symbol(x_)]\n",
    "    return result"
   ]
  },
  {
   "cell_type": "code",
   "execution_count": 38,
   "metadata": {},
   "outputs": [
    {
     "data": {
      "text/plain": [
       "('A', 'A', 'U', 'U')"
      ]
     },
     "execution_count": 38,
     "metadata": {},
     "output_type": "execute_result"
    }
   ],
   "source": [
    "symboleA, _ = sf.read('audiofiles/symboleA.wav')\n",
    "symboleA2, _ = sf.read('audiofiles/symboleA2.wav')\n",
    "symboleU, _ = sf.read('audiofiles/symboleU.wav')\n",
    "symboleU2, _ = sf.read('audiofiles/symboleU2.wav')\n",
    "decode(symboleA),decode(symboleA2),decode(symboleU),decode(symboleU2)"
   ]
  },
  {
   "cell_type": "code",
   "execution_count": null,
   "metadata": {},
   "outputs": [
    {
     "data": {
      "text/plain": [
       "'cestpasmal'"
      ]
     },
     "execution_count": 5,
     "metadata": {},
     "output_type": "execute_result"
    }
   ],
   "source": [
    "mess_ssespace, _ = sf.read('audiofiles/mess_ssespace.wav')\n",
    "decode(mess_ssespace)"
   ]
  },
  {
   "cell_type": "code",
   "execution_count": null,
   "metadata": {},
   "outputs": [
    {
     "data": {
      "text/plain": [
       "'c est mieux comme ca'"
      ]
     },
     "execution_count": 6,
     "metadata": {},
     "output_type": "execute_result"
    }
   ],
   "source": [
    "mess, _ = sf.read('audiofiles/mess.wav')\n",
    "decode(mess)"
   ]
  },
  {
   "cell_type": "code",
   "execution_count": null,
   "metadata": {},
   "outputs": [
    {
     "data": {
      "text/plain": [
       "'retirer votre lot a la caisse'"
      ]
     },
     "execution_count": 7,
     "metadata": {},
     "output_type": "execute_result"
    }
   ],
   "source": [
    "mess_difficile, _ = sf.read('audiofiles/mess_difficile.wav')\n",
    "decode(mess_difficile)"
   ]
  }
 ],
 "metadata": {
  "kernelspec": {
   "display_name": "Python 3",
   "language": "python",
   "name": "python3"
  },
  "language_info": {
   "codemirror_mode": {
    "name": "ipython",
    "version": 3
   },
   "file_extension": ".py",
   "mimetype": "text/x-python",
   "name": "python",
   "nbconvert_exporter": "python",
   "pygments_lexer": "ipython3",
   "version": "3.11.5"
  }
 },
 "nbformat": 4,
 "nbformat_minor": 2
}
